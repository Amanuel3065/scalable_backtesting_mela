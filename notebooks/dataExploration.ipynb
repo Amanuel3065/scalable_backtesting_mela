{
 "cells": [
  {
   "cell_type": "markdown",
   "metadata": {},
   "source": [
    "# Data Exploration"
   ]
  },
  {
   "cell_type": "markdown",
   "metadata": {},
   "source": [
    "This notebook aims to explore BTCUSDT dataset"
   ]
  },
  {
   "cell_type": "code",
   "execution_count": 1,
   "metadata": {},
   "outputs": [],
   "source": [
    "## Libraries\n",
    "import sys\n",
    "import os\n",
    "\n",
    "import pandas as pd\n",
    "import numpy as np\n",
    "import matplotlib.pyplot as plt\n",
    "import seaborn as sns\n",
    "\n",
    "%matplotlib inline"
   ]
  },
  {
   "cell_type": "code",
   "execution_count": 2,
   "metadata": {},
   "outputs": [],
   "source": [
    "sys.path.append(os.path.abspath(os.path.join(\"../scripts\"))) \n",
    "\n",
    "from log_helper import AppLog\n",
    "app_logger = AppLog(\"../logs/eda.log\").get_app_logger()"
   ]
  },
  {
   "cell_type": "markdown",
   "metadata": {},
   "source": [
    "### Import the dataset"
   ]
  },
  {
   "cell_type": "code",
   "execution_count": 3,
   "metadata": {},
   "outputs": [],
   "source": [
    "btcusddf = pd.read_csv('../data/BTCUSDT_2days_data.csv')"
   ]
  },
  {
   "cell_type": "code",
   "execution_count": 4,
   "metadata": {},
   "outputs": [
    {
     "data": {
      "text/html": [
       "<div>\n",
       "<style scoped>\n",
       "    .dataframe tbody tr th:only-of-type {\n",
       "        vertical-align: middle;\n",
       "    }\n",
       "\n",
       "    .dataframe tbody tr th {\n",
       "        vertical-align: top;\n",
       "    }\n",
       "\n",
       "    .dataframe thead th {\n",
       "        text-align: right;\n",
       "    }\n",
       "</style>\n",
       "<table border=\"1\" class=\"dataframe\">\n",
       "  <thead>\n",
       "    <tr style=\"text-align: right;\">\n",
       "      <th></th>\n",
       "      <th>Date</th>\n",
       "      <th>Open</th>\n",
       "      <th>High</th>\n",
       "      <th>Low</th>\n",
       "      <th>Close</th>\n",
       "      <th>Volume</th>\n",
       "      <th>QuoteVolume</th>\n",
       "    </tr>\n",
       "  </thead>\n",
       "  <tbody>\n",
       "    <tr>\n",
       "      <th>0</th>\n",
       "      <td>9/11/2022, 12:00:00 AM</td>\n",
       "      <td>21647.21</td>\n",
       "      <td>21666.22</td>\n",
       "      <td>21637.01</td>\n",
       "      <td>21652.68</td>\n",
       "      <td>348.00521</td>\n",
       "      <td>1662854459999</td>\n",
       "    </tr>\n",
       "    <tr>\n",
       "      <th>1</th>\n",
       "      <td>9/11/2022, 12:01:00 AM</td>\n",
       "      <td>21652.68</td>\n",
       "      <td>21660.58</td>\n",
       "      <td>21650.28</td>\n",
       "      <td>21655.31</td>\n",
       "      <td>132.51217</td>\n",
       "      <td>1662854519999</td>\n",
       "    </tr>\n",
       "    <tr>\n",
       "      <th>2</th>\n",
       "      <td>9/11/2022, 12:02:00 AM</td>\n",
       "      <td>21655.31</td>\n",
       "      <td>21661.67</td>\n",
       "      <td>21644.68</td>\n",
       "      <td>21660.77</td>\n",
       "      <td>147.52758</td>\n",
       "      <td>1662854579999</td>\n",
       "    </tr>\n",
       "    <tr>\n",
       "      <th>3</th>\n",
       "      <td>9/11/2022, 12:03:00 AM</td>\n",
       "      <td>21660.04</td>\n",
       "      <td>21679.95</td>\n",
       "      <td>21660.04</td>\n",
       "      <td>21661.41</td>\n",
       "      <td>194.46260</td>\n",
       "      <td>1662854639999</td>\n",
       "    </tr>\n",
       "    <tr>\n",
       "      <th>4</th>\n",
       "      <td>9/11/2022, 12:04:00 AM</td>\n",
       "      <td>21661.41</td>\n",
       "      <td>21662.65</td>\n",
       "      <td>21647.18</td>\n",
       "      <td>21655.69</td>\n",
       "      <td>241.24041</td>\n",
       "      <td>1662854699999</td>\n",
       "    </tr>\n",
       "  </tbody>\n",
       "</table>\n",
       "</div>"
      ],
      "text/plain": [
       "                     Date      Open      High       Low     Close     Volume  \\\n",
       "0  9/11/2022, 12:00:00 AM  21647.21  21666.22  21637.01  21652.68  348.00521   \n",
       "1  9/11/2022, 12:01:00 AM  21652.68  21660.58  21650.28  21655.31  132.51217   \n",
       "2  9/11/2022, 12:02:00 AM  21655.31  21661.67  21644.68  21660.77  147.52758   \n",
       "3  9/11/2022, 12:03:00 AM  21660.04  21679.95  21660.04  21661.41  194.46260   \n",
       "4  9/11/2022, 12:04:00 AM  21661.41  21662.65  21647.18  21655.69  241.24041   \n",
       "\n",
       "     QuoteVolume  \n",
       "0  1662854459999  \n",
       "1  1662854519999  \n",
       "2  1662854579999  \n",
       "3  1662854639999  \n",
       "4  1662854699999  "
      ]
     },
     "execution_count": 4,
     "metadata": {},
     "output_type": "execute_result"
    }
   ],
   "source": [
    "btcusddf.head()"
   ]
  },
  {
   "cell_type": "markdown",
   "metadata": {},
   "source": [
    "### Global description"
   ]
  },
  {
   "cell_type": "code",
   "execution_count": 5,
   "metadata": {},
   "outputs": [
    {
     "data": {
      "text/plain": [
       "Date            object\n",
       "Open           float64\n",
       "High           float64\n",
       "Low            float64\n",
       "Close          float64\n",
       "Volume         float64\n",
       "QuoteVolume      int64\n",
       "dtype: object"
      ]
     },
     "execution_count": 5,
     "metadata": {},
     "output_type": "execute_result"
    }
   ],
   "source": [
    "btcusddf.dtypes"
   ]
  },
  {
   "cell_type": "code",
   "execution_count": 6,
   "metadata": {},
   "outputs": [],
   "source": [
    "btcusddf.Date = pd.to_datetime(btcusddf.Date)"
   ]
  },
  {
   "cell_type": "code",
   "execution_count": 7,
   "metadata": {},
   "outputs": [],
   "source": [
    "df = btcusddf.copy()\n",
    "df.set_index('Date', inplace=True)"
   ]
  },
  {
   "cell_type": "code",
   "execution_count": 8,
   "metadata": {},
   "outputs": [],
   "source": [
    "df['year'] = df.index.year\n",
    "df['month'] = df.index.month\n",
    "df['day'] = df.index.day\n",
    "df['hour'] = df.index.hour\n",
    "df['minute'] = df.index.minute\n",
    "df.reset_index(inplace=True)"
   ]
  },
  {
   "cell_type": "code",
   "execution_count": 9,
   "metadata": {},
   "outputs": [
    {
     "data": {
      "text/html": [
       "<div>\n",
       "<style scoped>\n",
       "    .dataframe tbody tr th:only-of-type {\n",
       "        vertical-align: middle;\n",
       "    }\n",
       "\n",
       "    .dataframe tbody tr th {\n",
       "        vertical-align: top;\n",
       "    }\n",
       "\n",
       "    .dataframe thead th {\n",
       "        text-align: right;\n",
       "    }\n",
       "</style>\n",
       "<table border=\"1\" class=\"dataframe\">\n",
       "  <thead>\n",
       "    <tr style=\"text-align: right;\">\n",
       "      <th></th>\n",
       "      <th>Date</th>\n",
       "      <th>Open</th>\n",
       "      <th>High</th>\n",
       "      <th>Low</th>\n",
       "      <th>Close</th>\n",
       "      <th>Volume</th>\n",
       "      <th>QuoteVolume</th>\n",
       "      <th>year</th>\n",
       "      <th>month</th>\n",
       "      <th>day</th>\n",
       "      <th>hour</th>\n",
       "      <th>minute</th>\n",
       "    </tr>\n",
       "  </thead>\n",
       "  <tbody>\n",
       "    <tr>\n",
       "      <th>0</th>\n",
       "      <td>2022-09-11 00:00:00</td>\n",
       "      <td>21647.21</td>\n",
       "      <td>21666.22</td>\n",
       "      <td>21637.01</td>\n",
       "      <td>21652.68</td>\n",
       "      <td>348.00521</td>\n",
       "      <td>1662854459999</td>\n",
       "      <td>2022</td>\n",
       "      <td>9</td>\n",
       "      <td>11</td>\n",
       "      <td>0</td>\n",
       "      <td>0</td>\n",
       "    </tr>\n",
       "    <tr>\n",
       "      <th>1</th>\n",
       "      <td>2022-09-11 00:01:00</td>\n",
       "      <td>21652.68</td>\n",
       "      <td>21660.58</td>\n",
       "      <td>21650.28</td>\n",
       "      <td>21655.31</td>\n",
       "      <td>132.51217</td>\n",
       "      <td>1662854519999</td>\n",
       "      <td>2022</td>\n",
       "      <td>9</td>\n",
       "      <td>11</td>\n",
       "      <td>0</td>\n",
       "      <td>1</td>\n",
       "    </tr>\n",
       "    <tr>\n",
       "      <th>2</th>\n",
       "      <td>2022-09-11 00:02:00</td>\n",
       "      <td>21655.31</td>\n",
       "      <td>21661.67</td>\n",
       "      <td>21644.68</td>\n",
       "      <td>21660.77</td>\n",
       "      <td>147.52758</td>\n",
       "      <td>1662854579999</td>\n",
       "      <td>2022</td>\n",
       "      <td>9</td>\n",
       "      <td>11</td>\n",
       "      <td>0</td>\n",
       "      <td>2</td>\n",
       "    </tr>\n",
       "    <tr>\n",
       "      <th>3</th>\n",
       "      <td>2022-09-11 00:03:00</td>\n",
       "      <td>21660.04</td>\n",
       "      <td>21679.95</td>\n",
       "      <td>21660.04</td>\n",
       "      <td>21661.41</td>\n",
       "      <td>194.46260</td>\n",
       "      <td>1662854639999</td>\n",
       "      <td>2022</td>\n",
       "      <td>9</td>\n",
       "      <td>11</td>\n",
       "      <td>0</td>\n",
       "      <td>3</td>\n",
       "    </tr>\n",
       "    <tr>\n",
       "      <th>4</th>\n",
       "      <td>2022-09-11 00:04:00</td>\n",
       "      <td>21661.41</td>\n",
       "      <td>21662.65</td>\n",
       "      <td>21647.18</td>\n",
       "      <td>21655.69</td>\n",
       "      <td>241.24041</td>\n",
       "      <td>1662854699999</td>\n",
       "      <td>2022</td>\n",
       "      <td>9</td>\n",
       "      <td>11</td>\n",
       "      <td>0</td>\n",
       "      <td>4</td>\n",
       "    </tr>\n",
       "  </tbody>\n",
       "</table>\n",
       "</div>"
      ],
      "text/plain": [
       "                 Date      Open      High       Low     Close     Volume  \\\n",
       "0 2022-09-11 00:00:00  21647.21  21666.22  21637.01  21652.68  348.00521   \n",
       "1 2022-09-11 00:01:00  21652.68  21660.58  21650.28  21655.31  132.51217   \n",
       "2 2022-09-11 00:02:00  21655.31  21661.67  21644.68  21660.77  147.52758   \n",
       "3 2022-09-11 00:03:00  21660.04  21679.95  21660.04  21661.41  194.46260   \n",
       "4 2022-09-11 00:04:00  21661.41  21662.65  21647.18  21655.69  241.24041   \n",
       "\n",
       "     QuoteVolume  year  month  day  hour  minute  \n",
       "0  1662854459999  2022      9   11     0       0  \n",
       "1  1662854519999  2022      9   11     0       1  \n",
       "2  1662854579999  2022      9   11     0       2  \n",
       "3  1662854639999  2022      9   11     0       3  \n",
       "4  1662854699999  2022      9   11     0       4  "
      ]
     },
     "execution_count": 9,
     "metadata": {},
     "output_type": "execute_result"
    }
   ],
   "source": [
    "df.head()"
   ]
  },
  {
   "cell_type": "code",
   "execution_count": 10,
   "metadata": {},
   "outputs": [
    {
     "data": {
      "text/html": [
       "<div>\n",
       "<style scoped>\n",
       "    .dataframe tbody tr th:only-of-type {\n",
       "        vertical-align: middle;\n",
       "    }\n",
       "\n",
       "    .dataframe tbody tr th {\n",
       "        vertical-align: top;\n",
       "    }\n",
       "\n",
       "    .dataframe thead th {\n",
       "        text-align: right;\n",
       "    }\n",
       "</style>\n",
       "<table border=\"1\" class=\"dataframe\">\n",
       "  <thead>\n",
       "    <tr style=\"text-align: right;\">\n",
       "      <th></th>\n",
       "      <th>Open</th>\n",
       "      <th>High</th>\n",
       "      <th>Low</th>\n",
       "      <th>Close</th>\n",
       "      <th>Volume</th>\n",
       "      <th>QuoteVolume</th>\n",
       "    </tr>\n",
       "  </thead>\n",
       "  <tbody>\n",
       "    <tr>\n",
       "      <th>count</th>\n",
       "      <td>3000.000000</td>\n",
       "      <td>3000.000000</td>\n",
       "      <td>3000.000000</td>\n",
       "      <td>3000.000000</td>\n",
       "      <td>3000.000000</td>\n",
       "      <td>3.000000e+03</td>\n",
       "    </tr>\n",
       "    <tr>\n",
       "      <th>mean</th>\n",
       "      <td>21879.092347</td>\n",
       "      <td>21891.489020</td>\n",
       "      <td>21867.447657</td>\n",
       "      <td>21879.268773</td>\n",
       "      <td>235.084936</td>\n",
       "      <td>1.662944e+12</td>\n",
       "    </tr>\n",
       "    <tr>\n",
       "      <th>std</th>\n",
       "      <td>324.542962</td>\n",
       "      <td>326.792062</td>\n",
       "      <td>322.607994</td>\n",
       "      <td>324.577113</td>\n",
       "      <td>138.203408</td>\n",
       "      <td>5.197018e+07</td>\n",
       "    </tr>\n",
       "    <tr>\n",
       "      <th>min</th>\n",
       "      <td>21371.650000</td>\n",
       "      <td>21383.450000</td>\n",
       "      <td>21350.000000</td>\n",
       "      <td>21371.650000</td>\n",
       "      <td>28.268320</td>\n",
       "      <td>1.662854e+12</td>\n",
       "    </tr>\n",
       "    <tr>\n",
       "      <th>25%</th>\n",
       "      <td>21609.792500</td>\n",
       "      <td>21617.817500</td>\n",
       "      <td>21601.437500</td>\n",
       "      <td>21609.920000</td>\n",
       "      <td>150.949990</td>\n",
       "      <td>1.662899e+12</td>\n",
       "    </tr>\n",
       "    <tr>\n",
       "      <th>50%</th>\n",
       "      <td>21703.245000</td>\n",
       "      <td>21716.175000</td>\n",
       "      <td>21693.730000</td>\n",
       "      <td>21703.430000</td>\n",
       "      <td>201.939690</td>\n",
       "      <td>1.662944e+12</td>\n",
       "    </tr>\n",
       "    <tr>\n",
       "      <th>75%</th>\n",
       "      <td>22239.295000</td>\n",
       "      <td>22250.247500</td>\n",
       "      <td>22224.680000</td>\n",
       "      <td>22238.555000</td>\n",
       "      <td>279.471617</td>\n",
       "      <td>1.662989e+12</td>\n",
       "    </tr>\n",
       "    <tr>\n",
       "      <th>max</th>\n",
       "      <td>22456.820000</td>\n",
       "      <td>22488.000000</td>\n",
       "      <td>22446.250000</td>\n",
       "      <td>22456.820000</td>\n",
       "      <td>1790.177740</td>\n",
       "      <td>1.663034e+12</td>\n",
       "    </tr>\n",
       "  </tbody>\n",
       "</table>\n",
       "</div>"
      ],
      "text/plain": [
       "               Open          High           Low         Close       Volume  \\\n",
       "count   3000.000000   3000.000000   3000.000000   3000.000000  3000.000000   \n",
       "mean   21879.092347  21891.489020  21867.447657  21879.268773   235.084936   \n",
       "std      324.542962    326.792062    322.607994    324.577113   138.203408   \n",
       "min    21371.650000  21383.450000  21350.000000  21371.650000    28.268320   \n",
       "25%    21609.792500  21617.817500  21601.437500  21609.920000   150.949990   \n",
       "50%    21703.245000  21716.175000  21693.730000  21703.430000   201.939690   \n",
       "75%    22239.295000  22250.247500  22224.680000  22238.555000   279.471617   \n",
       "max    22456.820000  22488.000000  22446.250000  22456.820000  1790.177740   \n",
       "\n",
       "        QuoteVolume  \n",
       "count  3.000000e+03  \n",
       "mean   1.662944e+12  \n",
       "std    5.197018e+07  \n",
       "min    1.662854e+12  \n",
       "25%    1.662899e+12  \n",
       "50%    1.662944e+12  \n",
       "75%    1.662989e+12  \n",
       "max    1.663034e+12  "
      ]
     },
     "execution_count": 10,
     "metadata": {},
     "output_type": "execute_result"
    }
   ],
   "source": [
    "cols = ['Open', 'High', 'Low', 'Close', 'Volume', 'QuoteVolume']\n",
    "df[cols].describe()"
   ]
  },
  {
   "cell_type": "markdown",
   "metadata": {},
   "source": [
    "## Exploration"
   ]
  },
  {
   "cell_type": "code",
   "execution_count": null,
   "metadata": {},
   "outputs": [],
   "source": []
  },
  {
   "cell_type": "code",
   "execution_count": null,
   "metadata": {},
   "outputs": [],
   "source": []
  },
  {
   "cell_type": "code",
   "execution_count": null,
   "metadata": {},
   "outputs": [],
   "source": []
  },
  {
   "cell_type": "code",
   "execution_count": null,
   "metadata": {},
   "outputs": [],
   "source": []
  }
 ],
 "metadata": {
  "kernelspec": {
   "display_name": "Python 3.8.10 64-bit",
   "language": "python",
   "name": "python3"
  },
  "language_info": {
   "codemirror_mode": {
    "name": "ipython",
    "version": 3
   },
   "file_extension": ".py",
   "mimetype": "text/x-python",
   "name": "python",
   "nbconvert_exporter": "python",
   "pygments_lexer": "ipython3",
   "version": "3.8.10"
  },
  "orig_nbformat": 4,
  "vscode": {
   "interpreter": {
    "hash": "916dbcbb3f70747c44a77c7bcd40155683ae19c65e1c03b4aa3499c5328201f1"
   }
  }
 },
 "nbformat": 4,
 "nbformat_minor": 2
}
